{
 "cells": [
  {
   "cell_type": "code",
   "execution_count": 1,
   "id": "ee819d07",
   "metadata": {
    "_cell_guid": "b1076dfc-b9ad-4769-8c92-a6c4dae69d19",
    "_uuid": "8f2839f25d086af736a60e9eeb907d3b93b6e0e5",
    "execution": {
     "iopub.execute_input": "2024-01-25T17:24:35.590610Z",
     "iopub.status.busy": "2024-01-25T17:24:35.590315Z",
     "iopub.status.idle": "2024-01-25T17:24:36.778324Z",
     "shell.execute_reply": "2024-01-25T17:24:36.777066Z"
    },
    "papermill": {
     "duration": 1.20107,
     "end_time": "2024-01-25T17:24:36.780484",
     "exception": false,
     "start_time": "2024-01-25T17:24:35.579414",
     "status": "completed"
    },
    "tags": []
   },
   "outputs": [
    {
     "name": "stdout",
     "output_type": "stream",
     "text": [
      "/kaggle/input/stock-datasets/FPT.csv\n",
      "/kaggle/input/stock-datasets/VIC.csv\n",
      "/kaggle/input/stock-datasets/PNJ.csv\n",
      "/kaggle/input/stock-datasets/MSN.csv\n"
     ]
    }
   ],
   "source": [
    "# This Python 3 environment comes with many helpful analytics libraries installed\n",
    "# It is defined by the kaggle/python Docker image: https://github.com/kaggle/docker-python\n",
    "# For example, here's several helpful packages to load\n",
    "\n",
    "import numpy as np # linear algebra\n",
    "import pandas as pd # data processing, CSV file I/O (e.g. pd.read_csv)\n",
    "\n",
    "# Input data files are available in the read-only \"../input/\" directory\n",
    "# For example, running this (by clicking run or pressing Shift+Enter) will list all files under the input directory\n",
    "\n",
    "import os\n",
    "for dirname, _, filenames in os.walk('/kaggle/input'):\n",
    "    for filename in filenames:\n",
    "        print(os.path.join(dirname, filename))\n",
    "\n",
    "# You can write up to 20GB to the current directory (/kaggle/working/) that gets preserved as output when you create a version using \"Save & Run All\" \n",
    "# You can also write temporary files to /kaggle/temp/, but they won't be saved outside of the current session"
   ]
  },
  {
   "cell_type": "markdown",
   "id": "e141f807",
   "metadata": {
    "papermill": {
     "duration": 0.00893,
     "end_time": "2024-01-25T17:24:36.798727",
     "exception": false,
     "start_time": "2024-01-25T17:24:36.789797",
     "status": "completed"
    },
    "tags": []
   },
   "source": [
    "# Bước 1: Import thư viện"
   ]
  },
  {
   "cell_type": "code",
   "execution_count": 2,
   "id": "1bc3aa6c",
   "metadata": {
    "execution": {
     "iopub.execute_input": "2024-01-25T17:24:36.818060Z",
     "iopub.status.busy": "2024-01-25T17:24:36.817653Z",
     "iopub.status.idle": "2024-01-25T17:24:43.182599Z",
     "shell.execute_reply": "2024-01-25T17:24:43.181813Z"
    },
    "papermill": {
     "duration": 6.377296,
     "end_time": "2024-01-25T17:24:43.185065",
     "exception": false,
     "start_time": "2024-01-25T17:24:36.807769",
     "status": "completed"
    },
    "tags": []
   },
   "outputs": [],
   "source": [
    "import pandas as pd\n",
    "import numpy as np\n",
    "import torch\n",
    "import torch.nn as nn\n",
    "import matplotlib.pyplot as plt"
   ]
  },
  {
   "cell_type": "code",
   "execution_count": 3,
   "id": "5e3798bf",
   "metadata": {
    "execution": {
     "iopub.execute_input": "2024-01-25T17:24:43.204777Z",
     "iopub.status.busy": "2024-01-25T17:24:43.204386Z",
     "iopub.status.idle": "2024-01-25T17:24:43.295596Z",
     "shell.execute_reply": "2024-01-25T17:24:43.294725Z"
    },
    "papermill": {
     "duration": 0.103144,
     "end_time": "2024-01-25T17:24:43.297636",
     "exception": false,
     "start_time": "2024-01-25T17:24:43.194492",
     "status": "completed"
    },
    "tags": []
   },
   "outputs": [
    {
     "data": {
      "text/plain": [
       "'cuda'"
      ]
     },
     "execution_count": 3,
     "metadata": {},
     "output_type": "execute_result"
    }
   ],
   "source": [
    "device = 'cuda' if torch.cuda.is_available() else 'cpu'\n",
    "device"
   ]
  },
  {
   "cell_type": "markdown",
   "id": "6f1f35eb",
   "metadata": {
    "papermill": {
     "duration": 0.009035,
     "end_time": "2024-01-25T17:24:43.315867",
     "exception": false,
     "start_time": "2024-01-25T17:24:43.306832",
     "status": "completed"
    },
    "tags": []
   },
   "source": [
    "# Bước 2: Chuẩn bị dữ liệu"
   ]
  },
  {
   "cell_type": "code",
   "execution_count": 4,
   "id": "9bc937f2",
   "metadata": {
    "execution": {
     "iopub.execute_input": "2024-01-25T17:24:43.335596Z",
     "iopub.status.busy": "2024-01-25T17:24:43.335312Z",
     "iopub.status.idle": "2024-01-25T17:24:43.564460Z",
     "shell.execute_reply": "2024-01-25T17:24:43.563445Z"
    },
    "papermill": {
     "duration": 0.241933,
     "end_time": "2024-01-25T17:24:43.566821",
     "exception": false,
     "start_time": "2024-01-25T17:24:43.324888",
     "status": "completed"
    },
    "tags": []
   },
   "outputs": [],
   "source": [
    "fpt_df = pd.read_csv('/kaggle/input/stock-datasets/FPT.csv')"
   ]
  },
  {
   "cell_type": "code",
   "execution_count": 5,
   "id": "27a2acf9",
   "metadata": {
    "execution": {
     "iopub.execute_input": "2024-01-25T17:24:43.588441Z",
     "iopub.status.busy": "2024-01-25T17:24:43.587783Z",
     "iopub.status.idle": "2024-01-25T17:24:43.593637Z",
     "shell.execute_reply": "2024-01-25T17:24:43.592582Z"
    },
    "papermill": {
     "duration": 0.018133,
     "end_time": "2024-01-25T17:24:43.595656",
     "exception": false,
     "start_time": "2024-01-25T17:24:43.577523",
     "status": "completed"
    },
    "tags": []
   },
   "outputs": [
    {
     "data": {
      "text/plain": [
       "(97406, 8)"
      ]
     },
     "execution_count": 5,
     "metadata": {},
     "output_type": "execute_result"
    }
   ],
   "source": [
    "fpt_df.shape"
   ]
  },
  {
   "cell_type": "code",
   "execution_count": 6,
   "id": "4df1998a",
   "metadata": {
    "execution": {
     "iopub.execute_input": "2024-01-25T17:24:43.614816Z",
     "iopub.status.busy": "2024-01-25T17:24:43.614574Z",
     "iopub.status.idle": "2024-01-25T17:24:43.669551Z",
     "shell.execute_reply": "2024-01-25T17:24:43.668398Z"
    },
    "papermill": {
     "duration": 0.066579,
     "end_time": "2024-01-25T17:24:43.671410",
     "exception": false,
     "start_time": "2024-01-25T17:24:43.604831",
     "status": "completed"
    },
    "tags": []
   },
   "outputs": [
    {
     "name": "stdout",
     "output_type": "stream",
     "text": [
      "<class 'pandas.core.frame.DataFrame'>\n",
      "RangeIndex: 97406 entries, 0 to 97405\n",
      "Data columns (total 8 columns):\n",
      " #   Column         Non-Null Count  Dtype  \n",
      "---  ------         --------------  -----  \n",
      " 0   Ticker         97406 non-null  object \n",
      " 1   Date/Time      97406 non-null  object \n",
      " 2   Open           97406 non-null  float64\n",
      " 3   High           97406 non-null  float64\n",
      " 4   Low            97406 non-null  float64\n",
      " 5   Close          97406 non-null  float64\n",
      " 6   Volume         97406 non-null  int64  \n",
      " 7   Open Interest  97406 non-null  int64  \n",
      "dtypes: float64(4), int64(2), object(2)\n",
      "memory usage: 5.9+ MB\n"
     ]
    }
   ],
   "source": [
    "fpt_df.info()"
   ]
  },
  {
   "cell_type": "code",
   "execution_count": 7,
   "id": "718150e1",
   "metadata": {
    "execution": {
     "iopub.execute_input": "2024-01-25T17:24:43.691071Z",
     "iopub.status.busy": "2024-01-25T17:24:43.690826Z",
     "iopub.status.idle": "2024-01-25T17:24:43.704468Z",
     "shell.execute_reply": "2024-01-25T17:24:43.703615Z"
    },
    "papermill": {
     "duration": 0.025677,
     "end_time": "2024-01-25T17:24:43.706310",
     "exception": false,
     "start_time": "2024-01-25T17:24:43.680633",
     "status": "completed"
    },
    "tags": []
   },
   "outputs": [
    {
     "data": {
      "text/plain": [
       "<bound method NDFrame.describe of       Ticker         Date/Time   Open   High    Low  Close  Volume  \\\n",
       "0        FPT   12/25/2018 9:15  30.89  30.89  30.89  30.89   35410   \n",
       "1        FPT   12/25/2018 9:16  30.81  30.81  30.81  30.81     190   \n",
       "2        FPT   12/25/2018 9:17  30.74  30.81  30.74  30.74    1120   \n",
       "3        FPT   12/25/2018 9:18  30.74  30.74  30.74  30.74    2120   \n",
       "4        FPT   12/25/2018 9:19  30.74  30.74  30.74  30.74   22500   \n",
       "...      ...               ...    ...    ...    ...    ...     ...   \n",
       "97401    FPT  12/22/2020 14:24  58.20  58.20  58.20  58.20   27470   \n",
       "97402    FPT  12/22/2020 14:25  58.20  58.20  58.20  58.20   14820   \n",
       "97403    FPT  12/22/2020 14:26  58.20  58.20  58.20  58.20     500   \n",
       "97404    FPT  12/22/2020 14:29  58.10  58.10  58.10  58.10    2500   \n",
       "97405    FPT  12/22/2020 14:46  58.10  58.10  58.10  58.10   11170   \n",
       "\n",
       "       Open Interest  \n",
       "0                  0  \n",
       "1                  0  \n",
       "2                  0  \n",
       "3                  0  \n",
       "4                  0  \n",
       "...              ...  \n",
       "97401              0  \n",
       "97402              0  \n",
       "97403              0  \n",
       "97404              0  \n",
       "97405              0  \n",
       "\n",
       "[97406 rows x 8 columns]>"
      ]
     },
     "execution_count": 7,
     "metadata": {},
     "output_type": "execute_result"
    }
   ],
   "source": [
    "fpt_df.describe"
   ]
  },
  {
   "cell_type": "code",
   "execution_count": 8,
   "id": "decda165",
   "metadata": {
    "execution": {
     "iopub.execute_input": "2024-01-25T17:24:43.726611Z",
     "iopub.status.busy": "2024-01-25T17:24:43.726344Z",
     "iopub.status.idle": "2024-01-25T17:24:44.752598Z",
     "shell.execute_reply": "2024-01-25T17:24:44.751693Z"
    },
    "papermill": {
     "duration": 1.03894,
     "end_time": "2024-01-25T17:24:44.755178",
     "exception": false,
     "start_time": "2024-01-25T17:24:43.716238",
     "status": "completed"
    },
    "tags": []
   },
   "outputs": [
    {
     "data": {
      "image/png": "[encoded data removed]",
      "text/plain": [
       "<Figure size 640x480 with 1 Axes>"
      ]
     },
     "metadata": {},
     "output_type": "display_data"
    }
   ],
   "source": [
    "from matplotlib.dates import YearLocator, DateFormatter, MonthLocator\n",
    "\n",
    "fpt_df['Date/Time'] = pd.to_datetime(fpt_df['Date/Time'])\n",
    "\n",
    "plt.plot(fpt_df['Date/Time'], fpt_df['Close'])\n",
    "plt.xlabel('Năm')\n",
    "plt.ylabel('Giá đóng cửa')\n",
    "\n",
    "years = YearLocator()\n",
    "yearsFmt = DateFormatter('%Y')\n",
    "months = MonthLocator() \n",
    "plt.gca().xaxis.set_major_locator(years)\n",
    "plt.gca().xaxis.set_major_formatter(yearsFmt)\n",
    "plt.gca().xaxis.set_minor_locator(months)\n",
    "\n",
    "plt.tight_layout()\n",
    "plt.show()"
   ]
  },
  {
   "cell_type": "code",
   "execution_count": 9,
   "id": "df61b711",
   "metadata": {
    "execution": {
     "iopub.execute_input": "2024-01-25T17:24:44.776949Z",
     "iopub.status.busy": "2024-01-25T17:24:44.776422Z",
     "iopub.status.idle": "2024-01-25T17:24:44.793324Z",
     "shell.execute_reply": "2024-01-25T17:24:44.792419Z"
    },
    "papermill": {
     "duration": 0.029842,
     "end_time": "2024-01-25T17:24:44.795322",
     "exception": false,
     "start_time": "2024-01-25T17:24:44.765480",
     "status": "completed"
    },
    "tags": []
   },
   "outputs": [
    {
     "data": {
      "text/html": [
       "<div>\n",
       "<style scoped>\n",
       "    .dataframe tbody tr th:only-of-type {\n",
       "        vertical-align: middle;\n",
       "    }\n",
       "\n",
       "    .dataframe tbody tr th {\n",
       "        vertical-align: top;\n",
       "    }\n",
       "\n",
       "    .dataframe thead th {\n",
       "        text-align: right;\n",
       "    }\n",
       "</style>\n",
       "<table border=\"1\" class=\"dataframe\">\n",
       "  <thead>\n",
       "    <tr style=\"text-align: right;\">\n",
       "      <th></th>\n",
       "      <th>Open</th>\n",
       "      <th>High</th>\n",
       "      <th>Low</th>\n",
       "      <th>Close</th>\n",
       "    </tr>\n",
       "  </thead>\n",
       "  <tbody>\n",
       "    <tr>\n",
       "      <th>0</th>\n",
       "      <td>30.89</td>\n",
       "      <td>30.89</td>\n",
       "      <td>30.89</td>\n",
       "      <td>30.89</td>\n",
       "    </tr>\n",
       "    <tr>\n",
       "      <th>1</th>\n",
       "      <td>30.81</td>\n",
       "      <td>30.81</td>\n",
       "      <td>30.81</td>\n",
       "      <td>30.81</td>\n",
       "    </tr>\n",
       "    <tr>\n",
       "      <th>2</th>\n",
       "      <td>30.74</td>\n",
       "      <td>30.81</td>\n",
       "      <td>30.74</td>\n",
       "      <td>30.74</td>\n",
       "    </tr>\n",
       "    <tr>\n",
       "      <th>3</th>\n",
       "      <td>30.74</td>\n",
       "      <td>30.74</td>\n",
       "      <td>30.74</td>\n",
       "      <td>30.74</td>\n",
       "    </tr>\n",
       "    <tr>\n",
       "      <th>4</th>\n",
       "      <td>30.74</td>\n",
       "      <td>30.74</td>\n",
       "      <td>30.74</td>\n",
       "      <td>30.74</td>\n",
       "    </tr>\n",
       "  </tbody>\n",
       "</table>\n",
       "</div>"
      ],
      "text/plain": [
       "    Open   High    Low  Close\n",
       "0  30.89  30.89  30.89  30.89\n",
       "1  30.81  30.81  30.81  30.81\n",
       "2  30.74  30.81  30.74  30.74\n",
       "3  30.74  30.74  30.74  30.74\n",
       "4  30.74  30.74  30.74  30.74"
      ]
     },
     "execution_count": 9,
     "metadata": {},
     "output_type": "execute_result"
    }
   ],
   "source": [
    "fpt_df = fpt_df.drop(columns=['Ticker','Date/Time','Open Interest','Volume'])\n",
    "fpt_df.head()"
   ]
  },
  {
   "cell_type": "code",
   "execution_count": 10,
   "id": "524bb8a8",
   "metadata": {
    "execution": {
     "iopub.execute_input": "2024-01-25T17:24:44.818040Z",
     "iopub.status.busy": "2024-01-25T17:24:44.817778Z",
     "iopub.status.idle": "2024-01-25T17:24:44.823829Z",
     "shell.execute_reply": "2024-01-25T17:24:44.822783Z"
    },
    "papermill": {
     "duration": 0.019703,
     "end_time": "2024-01-25T17:24:44.825930",
     "exception": false,
     "start_time": "2024-01-25T17:24:44.806227",
     "status": "completed"
    },
    "tags": []
   },
   "outputs": [
    {
     "data": {
      "text/plain": [
       "array([[30.89, 30.89, 30.89, 30.89],\n",
       "       [30.81, 30.81, 30.81, 30.81],\n",
       "       [30.74, 30.81, 30.74, 30.74],\n",
       "       ...,\n",
       "       [58.2 , 58.2 , 58.2 , 58.2 ],\n",
       "       [58.1 , 58.1 , 58.1 , 58.1 ],\n",
       "       [58.1 , 58.1 , 58.1 , 58.1 ]])"
      ]
     },
     "execution_count": 10,
     "metadata": {},
     "output_type": "execute_result"
    }
   ],
   "source": [
    "data = fpt_df.values\n",
    "data"
   ]
  },
  {
   "cell_type": "code",
   "execution_count": 11,
   "id": "a4b24938",
   "metadata": {
    "execution": {
     "iopub.execute_input": "2024-01-25T17:24:44.848003Z",
     "iopub.status.busy": "2024-01-25T17:24:44.847751Z",
     "iopub.status.idle": "2024-01-25T17:24:46.297897Z",
     "shell.execute_reply": "2024-01-25T17:24:46.296986Z"
    },
    "papermill": {
     "duration": 1.463521,
     "end_time": "2024-01-25T17:24:46.299910",
     "exception": false,
     "start_time": "2024-01-25T17:24:44.836389",
     "status": "completed"
    },
    "tags": []
   },
   "outputs": [
    {
     "name": "stderr",
     "output_type": "stream",
     "text": [
      "/opt/conda/lib/python3.10/site-packages/scipy/__init__.py:146: UserWarning: A NumPy version >=1.16.5 and <1.23.0 is required for this version of SciPy (detected version 1.24.3\n",
      "  warnings.warn(f\"A NumPy version >={np_minversion} and <{np_maxversion}\"\n"
     ]
    },
    {
     "data": {
      "text/plain": [
       "array([[-2.22989656, -2.23100117, -2.2286678 , -2.22989816],\n",
       "       [-2.24247563, -2.24357006, -2.24125787, -2.24247724],\n",
       "       [-2.25348232, -2.24357006, -2.25227418, -2.25348393],\n",
       "       ...,\n",
       "       [ 2.06428361,  2.05970641,  2.06926817,  2.06428487],\n",
       "       [ 2.04855977,  2.04399529,  2.05353058,  2.04856102],\n",
       "       [ 2.04855977,  2.04399529,  2.05353058,  2.04856102]])"
      ]
     },
     "execution_count": 11,
     "metadata": {},
     "output_type": "execute_result"
    }
   ],
   "source": [
    "from sklearn.preprocessing import StandardScaler\n",
    "\n",
    "scaler = StandardScaler()\n",
    "data = scaler.fit_transform(data)\n",
    "data"
   ]
  },
  {
   "cell_type": "code",
   "execution_count": 12,
   "id": "50cefb6f",
   "metadata": {
    "execution": {
     "iopub.execute_input": "2024-01-25T17:24:46.322408Z",
     "iopub.status.busy": "2024-01-25T17:24:46.322102Z",
     "iopub.status.idle": "2024-01-25T17:24:46.326793Z",
     "shell.execute_reply": "2024-01-25T17:24:46.325861Z"
    },
    "papermill": {
     "duration": 0.017929,
     "end_time": "2024-01-25T17:24:46.328696",
     "exception": false,
     "start_time": "2024-01-25T17:24:46.310767",
     "status": "completed"
    },
    "tags": []
   },
   "outputs": [],
   "source": [
    "split_index = int(len(data) * 0.8)\n",
    "\n",
    "train_data = data[:split_index]\n",
    "test_data = data[split_index:]"
   ]
  },
  {
   "cell_type": "code",
   "execution_count": 13,
   "id": "8da823ef",
   "metadata": {
    "execution": {
     "iopub.execute_input": "2024-01-25T17:24:46.351602Z",
     "iopub.status.busy": "2024-01-25T17:24:46.351329Z",
     "iopub.status.idle": "2024-01-25T17:24:46.357538Z",
     "shell.execute_reply": "2024-01-25T17:24:46.356677Z"
    },
    "papermill": {
     "duration": 0.019714,
     "end_time": "2024-01-25T17:24:46.359672",
     "exception": false,
     "start_time": "2024-01-25T17:24:46.339958",
     "status": "completed"
    },
    "tags": []
   },
   "outputs": [
    {
     "data": {
      "text/plain": [
       "array([[-2.22989656, -2.23100117, -2.2286678 , -2.22989816],\n",
       "       [-2.24247563, -2.24357006, -2.24125787, -2.24247724],\n",
       "       [-2.25348232, -2.24357006, -2.25227418, -2.25348393],\n",
       "       ...,\n",
       "       [ 0.45259021,  0.44931635,  0.45616514,  0.4525904 ],\n",
       "       [ 0.45259021,  0.45717191,  0.45616514,  0.46045232],\n",
       "       [ 0.46045213,  0.45717191,  0.45616514,  0.46045232]])"
      ]
     },
     "execution_count": 13,
     "metadata": {},
     "output_type": "execute_result"
    }
   ],
   "source": [
    "train_data"
   ]
  },
  {
   "cell_type": "code",
   "execution_count": 14,
   "id": "365db177",
   "metadata": {
    "execution": {
     "iopub.execute_input": "2024-01-25T17:24:46.381879Z",
     "iopub.status.busy": "2024-01-25T17:24:46.381604Z",
     "iopub.status.idle": "2024-01-25T17:24:46.510241Z",
     "shell.execute_reply": "2024-01-25T17:24:46.509356Z"
    },
    "papermill": {
     "duration": 0.142739,
     "end_time": "2024-01-25T17:24:46.513019",
     "exception": false,
     "start_time": "2024-01-25T17:24:46.370280",
     "status": "completed"
    },
    "tags": []
   },
   "outputs": [],
   "source": [
    "sequence_length = 7  # Độ dài của mỗi chuỗi thời gian\n",
    "x_train_sequences = []\n",
    "y_train = []\n",
    "\n",
    "x_test_sequences = []\n",
    "y_test = []\n",
    "\n",
    "for i in range(len(train_data) - sequence_length):\n",
    "    x_sequence = train_data[i:i+sequence_length] #dùng dữ liệu của 20 ngày trước để dự đoán ngày hiện tại\n",
    "    y_label = train_data[i+sequence_length]\n",
    "    x_train_sequences.append(x_sequence)\n",
    "    y_train.append(y_label)\n",
    "    \n",
    "for i in range(len(test_data) - sequence_length):\n",
    "    x_sequence = test_data[i:i+sequence_length] #dùng dữ liệu của 20 ngày trước để dự đoán ngày hiện tại\n",
    "    y_label = test_data[i+sequence_length]\n",
    "    x_test_sequences.append(x_sequence)\n",
    "    y_test.append(y_label)"
   ]
  },
  {
   "cell_type": "code",
   "execution_count": 15,
   "id": "53b7838b",
   "metadata": {
    "execution": {
     "iopub.execute_input": "2024-01-25T17:24:46.536208Z",
     "iopub.status.busy": "2024-01-25T17:24:46.535704Z",
     "iopub.status.idle": "2024-01-25T17:24:48.462836Z",
     "shell.execute_reply": "2024-01-25T17:24:48.461842Z"
    },
    "papermill": {
     "duration": 1.94078,
     "end_time": "2024-01-25T17:24:48.464957",
     "exception": false,
     "start_time": "2024-01-25T17:24:46.524177",
     "status": "completed"
    },
    "tags": []
   },
   "outputs": [
    {
     "name": "stderr",
     "output_type": "stream",
     "text": [
      "/tmp/ipykernel_26/2927039095.py:1: UserWarning: Creating a tensor from a list of numpy.ndarrays is extremely slow. Please consider converting the list to a single numpy.ndarray with numpy.array() before converting to a tensor. (Triggered internally at /usr/local/src/pytorch/torch/csrc/utils/tensor_new.cpp:245.)\n",
      "  x_train_sequences = torch.tensor(x_train_sequences, dtype=torch.float32)\n"
     ]
    }
   ],
   "source": [
    "x_train_sequences = torch.tensor(x_train_sequences, dtype=torch.float32)\n",
    "y_train = torch.tensor(y_train, dtype=torch.float32)\n",
    "\n",
    "x_test_sequences = torch.tensor(x_test_sequences, dtype=torch.float32)\n",
    "y_test = torch.tensor(y_test, dtype=torch.float32)"
   ]
  },
  {
   "cell_type": "code",
   "execution_count": 16,
   "id": "e518b056",
   "metadata": {
    "execution": {
     "iopub.execute_input": "2024-01-25T17:24:48.488693Z",
     "iopub.status.busy": "2024-01-25T17:24:48.488373Z",
     "iopub.status.idle": "2024-01-25T17:24:48.627203Z",
     "shell.execute_reply": "2024-01-25T17:24:48.626361Z"
    },
    "papermill": {
     "duration": 0.152542,
     "end_time": "2024-01-25T17:24:48.629069",
     "exception": false,
     "start_time": "2024-01-25T17:24:48.476527",
     "status": "completed"
    },
    "tags": []
   },
   "outputs": [
    {
     "data": {
      "text/plain": [
       "tensor([[[-2.2299, -2.2310, -2.2287, -2.2299],\n",
       "         [-2.2425, -2.2436, -2.2413, -2.2425],\n",
       "         [-2.2535, -2.2436, -2.2523, -2.2535],\n",
       "         ...,\n",
       "         [-2.2535, -2.2546, -2.2523, -2.2535],\n",
       "         [-2.2535, -2.2546, -2.2586, -2.2535],\n",
       "         [-2.2661, -2.2546, -2.2759, -2.2661]],\n",
       "\n",
       "        [[-2.2425, -2.2436, -2.2413, -2.2425],\n",
       "         [-2.2535, -2.2436, -2.2523, -2.2535],\n",
       "         [-2.2535, -2.2546, -2.2523, -2.2535],\n",
       "         ...,\n",
       "         [-2.2535, -2.2546, -2.2586, -2.2535],\n",
       "         [-2.2661, -2.2546, -2.2759, -2.2661],\n",
       "         [-2.2063, -2.1964, -2.2051, -2.1953]],\n",
       "\n",
       "        [[-2.2535, -2.2436, -2.2523, -2.2535],\n",
       "         [-2.2535, -2.2546, -2.2523, -2.2535],\n",
       "         [-2.2535, -2.2546, -2.2523, -2.2535],\n",
       "         ...,\n",
       "         [-2.2661, -2.2546, -2.2759, -2.2661],\n",
       "         [-2.2063, -2.1964, -2.2051, -2.1953],\n",
       "         [-2.1827, -2.1839, -2.1815, -2.1827]],\n",
       "\n",
       "        ...,\n",
       "\n",
       "        [[ 0.4526,  0.4493,  0.4483,  0.4447],\n",
       "         [ 0.4447,  0.4572,  0.4404,  0.4447],\n",
       "         [ 0.4447,  0.4415,  0.4483,  0.4447],\n",
       "         ...,\n",
       "         [ 0.4526,  0.4493,  0.4562,  0.4526],\n",
       "         [ 0.4526,  0.4493,  0.4562,  0.4526],\n",
       "         [ 0.4526,  0.4572,  0.4562,  0.4526]],\n",
       "\n",
       "        [[ 0.4447,  0.4572,  0.4404,  0.4447],\n",
       "         [ 0.4447,  0.4415,  0.4483,  0.4447],\n",
       "         [ 0.4526,  0.4572,  0.4562,  0.4526],\n",
       "         ...,\n",
       "         [ 0.4526,  0.4493,  0.4562,  0.4526],\n",
       "         [ 0.4526,  0.4572,  0.4562,  0.4526],\n",
       "         [ 0.4526,  0.4493,  0.4562,  0.4526]],\n",
       "\n",
       "        [[ 0.4447,  0.4415,  0.4483,  0.4447],\n",
       "         [ 0.4526,  0.4572,  0.4562,  0.4526],\n",
       "         [ 0.4526,  0.4493,  0.4562,  0.4526],\n",
       "         ...,\n",
       "         [ 0.4526,  0.4572,  0.4562,  0.4526],\n",
       "         [ 0.4526,  0.4493,  0.4562,  0.4526],\n",
       "         [ 0.4526,  0.4572,  0.4562,  0.4605]]])"
      ]
     },
     "execution_count": 16,
     "metadata": {},
     "output_type": "execute_result"
    }
   ],
   "source": [
    "x_train_sequences"
   ]
  },
  {
   "cell_type": "code",
   "execution_count": 17,
   "id": "99c671e8",
   "metadata": {
    "execution": {
     "iopub.execute_input": "2024-01-25T17:24:48.652641Z",
     "iopub.status.busy": "2024-01-25T17:24:48.652357Z",
     "iopub.status.idle": "2024-01-25T17:24:48.658045Z",
     "shell.execute_reply": "2024-01-25T17:24:48.657254Z"
    },
    "papermill": {
     "duration": 0.019643,
     "end_time": "2024-01-25T17:24:48.659930",
     "exception": false,
     "start_time": "2024-01-25T17:24:48.640287",
     "status": "completed"
    },
    "tags": []
   },
   "outputs": [
    {
     "data": {
      "text/plain": [
       "torch.Size([77917, 7, 4])"
      ]
     },
     "execution_count": 17,
     "metadata": {},
     "output_type": "execute_result"
    }
   ],
   "source": [
    "x_train_sequences.shape"
   ]
  },
  {
   "cell_type": "code",
   "execution_count": 18,
   "id": "4abc919b",
   "metadata": {
    "execution": {
     "iopub.execute_input": "2024-01-25T17:24:48.683454Z",
     "iopub.status.busy": "2024-01-25T17:24:48.683155Z",
     "iopub.status.idle": "2024-01-25T17:24:48.688501Z",
     "shell.execute_reply": "2024-01-25T17:24:48.687722Z"
    },
    "papermill": {
     "duration": 0.019215,
     "end_time": "2024-01-25T17:24:48.690354",
     "exception": false,
     "start_time": "2024-01-25T17:24:48.671139",
     "status": "completed"
    },
    "tags": []
   },
   "outputs": [],
   "source": [
    "from torch.utils.data import TensorDataset, DataLoader\n",
    "batch_size = 16\n",
    "\n",
    "train_dataset = TensorDataset(x_train_sequences, y_train)\n",
    "test_dataset = TensorDataset(x_test_sequences, y_test)\n",
    "\n",
    "train_loader = DataLoader(train_dataset, batch_size=batch_size, shuffle=True)\n",
    "test_loader = DataLoader(test_dataset, batch_size=batch_size, shuffle=True)\n"
   ]
  },
  {
   "cell_type": "code",
   "execution_count": 19,
   "id": "ed72353a",
   "metadata": {
    "execution": {
     "iopub.execute_input": "2024-01-25T17:24:48.714219Z",
     "iopub.status.busy": "2024-01-25T17:24:48.713929Z",
     "iopub.status.idle": "2024-01-25T17:24:48.720904Z",
     "shell.execute_reply": "2024-01-25T17:24:48.720097Z"
    },
    "papermill": {
     "duration": 0.020664,
     "end_time": "2024-01-25T17:24:48.722674",
     "exception": false,
     "start_time": "2024-01-25T17:24:48.702010",
     "status": "completed"
    },
    "tags": []
   },
   "outputs": [
    {
     "data": {
      "text/plain": [
       "(tensor([[-2.2299, -2.2310, -2.2287, -2.2299],\n",
       "         [-2.2425, -2.2436, -2.2413, -2.2425],\n",
       "         [-2.2535, -2.2436, -2.2523, -2.2535],\n",
       "         [-2.2535, -2.2546, -2.2523, -2.2535],\n",
       "         [-2.2535, -2.2546, -2.2523, -2.2535],\n",
       "         [-2.2535, -2.2546, -2.2586, -2.2535],\n",
       "         [-2.2661, -2.2546, -2.2759, -2.2661]]),\n",
       " tensor([-2.2063, -2.1964, -2.2051, -2.1953]))"
      ]
     },
     "execution_count": 19,
     "metadata": {},
     "output_type": "execute_result"
    }
   ],
   "source": [
    "train_dataset[0]"
   ]
  },
  {
   "cell_type": "markdown",
   "id": "027ac2c8",
   "metadata": {
    "papermill": {
     "duration": 0.011082,
     "end_time": "2024-01-25T17:24:48.786839",
     "exception": false,
     "start_time": "2024-01-25T17:24:48.775757",
     "status": "completed"
    },
    "tags": []
   },
   "source": [
    "# Bước 3: Xây dựng và huấn luyện mô hình"
   ]
  },
  {
   "cell_type": "code",
   "execution_count": 20,
   "id": "4bf1cbaa",
   "metadata": {
    "execution": {
     "iopub.execute_input": "2024-01-25T17:24:48.811150Z",
     "iopub.status.busy": "2024-01-25T17:24:48.810585Z",
     "iopub.status.idle": "2024-01-25T17:24:49.304097Z",
     "shell.execute_reply": "2024-01-25T17:24:49.303094Z"
    },
    "papermill": {
     "duration": 0.508353,
     "end_time": "2024-01-25T17:24:49.306436",
     "exception": false,
     "start_time": "2024-01-25T17:24:48.798083",
     "status": "completed"
    },
    "tags": []
   },
   "outputs": [
    {
     "data": {
      "text/plain": [
       "LSTM(\n",
       "  (lstm): LSTM(4, 4, batch_first=True)\n",
       "  (fc): Linear(in_features=4, out_features=4, bias=True)\n",
       ")"
      ]
     },
     "execution_count": 20,
     "metadata": {},
     "output_type": "execute_result"
    }
   ],
   "source": [
    "class LSTM(nn.Module):\n",
    "    def __init__(self, input_size, hidden_size, num_stacked_layers):\n",
    "        super().__init__()\n",
    "        self.hidden_size = hidden_size\n",
    "        self.num_stacked_layers = num_stacked_layers #là số lượng tầng LSTM được xếp chồng lên nhau\n",
    "\n",
    "        self.lstm = nn.LSTM(input_size, hidden_size, num_stacked_layers, batch_first=True)\n",
    "        \n",
    "        self.fc = nn.Linear(hidden_size, 4)\n",
    "\n",
    "    def forward(self, x):\n",
    "        batch_size = x.size(0)\n",
    "        h0 = torch.zeros(self.num_stacked_layers, batch_size, self.hidden_size).to(device)\n",
    "        c0 = torch.zeros(self.num_stacked_layers, batch_size, self.hidden_size).to(device)\n",
    "        \n",
    "        out, _ = self.lstm(x, (h0, c0))\n",
    "        out = self.fc(out[:, -1, :])\n",
    "        return out\n",
    "\n",
    "model = LSTM(4, 4, 1)\n",
    "model.to(device)\n",
    "model"
   ]
  },
  {
   "cell_type": "code",
   "execution_count": 21,
   "id": "51a6bf93",
   "metadata": {
    "execution": {
     "iopub.execute_input": "2024-01-25T17:24:49.331370Z",
     "iopub.status.busy": "2024-01-25T17:24:49.331048Z",
     "iopub.status.idle": "2024-01-25T17:24:49.337715Z",
     "shell.execute_reply": "2024-01-25T17:24:49.336912Z"
    },
    "papermill": {
     "duration": 0.020961,
     "end_time": "2024-01-25T17:24:49.339679",
     "exception": false,
     "start_time": "2024-01-25T17:24:49.318718",
     "status": "completed"
    },
    "tags": []
   },
   "outputs": [],
   "source": [
    "def train_one_epoch():\n",
    "    model.train(True)\n",
    "    print(f'Epoch: {epoch + 1}')\n",
    "    running_loss = 0.0\n",
    "    \n",
    "    for batch_index, batch in enumerate(train_loader):\n",
    "        x_batch, y_batch = batch[0].to(device), batch[1].to(device)\n",
    "        \n",
    "        output = model(x_batch)\n",
    "        loss = loss_function(output, y_batch)\n",
    "        running_loss += loss.item()\n",
    "        \n",
    "        optimizer.zero_grad()\n",
    "        loss.backward()\n",
    "        optimizer.step()\n",
    "            \n",
    "    avg_loss_across_batches = running_loss / len(train_loader)\n",
    "    print(f\"Loss: {avg_loss_across_batches}\")"
   ]
  },
  {
   "cell_type": "code",
   "execution_count": 22,
   "id": "33721c10",
   "metadata": {
    "execution": {
     "iopub.execute_input": "2024-01-25T17:24:49.364559Z",
     "iopub.status.busy": "2024-01-25T17:24:49.363755Z",
     "iopub.status.idle": "2024-01-25T17:24:49.369660Z",
     "shell.execute_reply": "2024-01-25T17:24:49.368941Z"
    },
    "papermill": {
     "duration": 0.020156,
     "end_time": "2024-01-25T17:24:49.371542",
     "exception": false,
     "start_time": "2024-01-25T17:24:49.351386",
     "status": "completed"
    },
    "tags": []
   },
   "outputs": [],
   "source": [
    "def validate_one_epoch():\n",
    "    model.train(False)\n",
    "    running_loss = 0.0\n",
    "    \n",
    "    for batch_index, batch in enumerate(test_loader):\n",
    "        x_batch, y_batch = batch[0].to(device), batch[1].to(device)\n",
    "        \n",
    "        with torch.no_grad():\n",
    "            output = model(x_batch)\n",
    "            loss = loss_function(output, y_batch)\n",
    "            running_loss += loss.item()\n",
    "\n",
    "    avg_loss_across_batches = running_loss / len(test_loader)\n",
    "    \n",
    "    print(f'Val Loss: {avg_loss_across_batches}')"
   ]
  },
  {
   "cell_type": "code",
   "execution_count": 23,
   "id": "79222e13",
   "metadata": {
    "execution": {
     "iopub.execute_input": "2024-01-25T17:24:49.395465Z",
     "iopub.status.busy": "2024-01-25T17:24:49.395172Z",
     "iopub.status.idle": "2024-01-25T17:33:20.211656Z",
     "shell.execute_reply": "2024-01-25T17:33:20.210717Z"
    },
    "papermill": {
     "duration": 510.831112,
     "end_time": "2024-01-25T17:33:20.213885",
     "exception": false,
     "start_time": "2024-01-25T17:24:49.382773",
     "status": "completed"
    },
    "tags": []
   },
   "outputs": [
    {
     "name": "stdout",
     "output_type": "stream",
     "text": [
      "Epoch: 1\n",
      "Loss: 0.0071327439749670355\n",
      "Val Loss: 0.03478051768450371\n",
      "Epoch: 2\n",
      "Loss: 0.00015809282822280995\n",
      "Val Loss: 0.02631016720705402\n",
      "Epoch: 3\n",
      "Loss: 0.00014677787963457518\n",
      "Val Loss: 0.025889399681674346\n",
      "Epoch: 4\n",
      "Loss: 0.00013840727819940728\n",
      "Val Loss: 0.023907100354512077\n",
      "Epoch: 5\n",
      "Loss: 0.0001288501626263132\n",
      "Val Loss: 0.009246802426351246\n",
      "Epoch: 6\n",
      "Loss: 0.00012948801882638647\n",
      "Val Loss: 0.0026466596287817424\n",
      "Epoch: 7\n",
      "Loss: 0.00012111969565303597\n",
      "Val Loss: 0.000598782504135888\n",
      "Epoch: 8\n",
      "Loss: 0.00012154251160635565\n",
      "Val Loss: 0.0007592833505526502\n",
      "Epoch: 9\n",
      "Loss: 0.00011849374049826041\n",
      "Val Loss: 0.0012082382813914203\n",
      "Epoch: 10\n",
      "Loss: 0.00011380859020337495\n",
      "Val Loss: 0.0019233510780882446\n",
      "Epoch: 11\n",
      "Loss: 0.00011144871326087574\n",
      "Val Loss: 0.00042424313506956993\n",
      "Epoch: 12\n",
      "Loss: 0.00011019914816837219\n",
      "Val Loss: 0.0010088919199903888\n",
      "Epoch: 13\n",
      "Loss: 0.00010729552857593996\n",
      "Val Loss: 0.0019133001192422122\n",
      "Epoch: 14\n",
      "Loss: 0.00011037777953200186\n",
      "Val Loss: 0.0008033606556132319\n",
      "Epoch: 15\n",
      "Loss: 0.00010727334927957377\n",
      "Val Loss: 0.0029286025432446474\n",
      "Epoch: 16\n",
      "Loss: 0.0001091624252688998\n",
      "Val Loss: 0.0011882740745842492\n",
      "Epoch: 17\n",
      "Loss: 0.00010754867897878016\n",
      "Val Loss: 0.0005464897195005534\n",
      "Epoch: 18\n",
      "Loss: 0.00010919413028987374\n",
      "Val Loss: 0.0008806515406099973\n",
      "Epoch: 19\n",
      "Loss: 0.0001096493944938999\n",
      "Val Loss: 0.0010965349060474293\n",
      "Epoch: 20\n",
      "Loss: 0.00010897112005308712\n",
      "Val Loss: 0.0009505737849747239\n",
      "Epoch: 21\n",
      "Loss: 0.00010617015434794371\n",
      "Val Loss: 0.0013777637478210375\n",
      "Epoch: 22\n",
      "Loss: 0.00010696807903887637\n",
      "Val Loss: 0.001859671662656147\n",
      "Epoch: 23\n",
      "Loss: 0.00010285333855361133\n",
      "Val Loss: 0.0019332455146971702\n",
      "Epoch: 24\n",
      "Loss: 0.00010385510819176515\n",
      "Val Loss: 0.0009044546896804279\n",
      "Epoch: 25\n",
      "Loss: 0.00010339489887754386\n",
      "Val Loss: 0.0019340982292952505\n",
      "Epoch: 26\n",
      "Loss: 0.00010510514369248337\n",
      "Val Loss: 0.0010522703475719134\n",
      "Epoch: 27\n",
      "Loss: 0.0001030017882367695\n",
      "Val Loss: 0.0009875107188578136\n",
      "Epoch: 28\n",
      "Loss: 0.00010318164041607113\n",
      "Val Loss: 0.0015462169059351919\n",
      "Epoch: 29\n",
      "Loss: 0.00010254725272624804\n",
      "Val Loss: 0.0012146179237034422\n",
      "Epoch: 30\n",
      "Loss: 0.0001047452707032909\n",
      "Val Loss: 0.0010717106803711457\n",
      "Epoch: 31\n",
      "Loss: 0.00010226133687998108\n",
      "Val Loss: 0.000544537599797801\n",
      "Epoch: 32\n",
      "Loss: 0.00010164320033338666\n",
      "Val Loss: 0.0006365413010245218\n",
      "Epoch: 33\n",
      "Loss: 0.00010230295370232856\n",
      "Val Loss: 0.0010497617563465036\n",
      "Epoch: 34\n",
      "Loss: 0.00010037236410280308\n",
      "Val Loss: 0.0011931369848400646\n",
      "Epoch: 35\n",
      "Loss: 0.00010372497436429705\n",
      "Val Loss: 0.0012565351169031077\n",
      "Epoch: 36\n",
      "Loss: 0.00010131776036782017\n",
      "Val Loss: 0.0006628609231911126\n",
      "Epoch: 37\n",
      "Loss: 0.00010493041271742526\n",
      "Val Loss: 0.00034049366082498065\n",
      "Epoch: 38\n",
      "Loss: 0.00010254370182941096\n",
      "Val Loss: 0.0016955791932153593\n",
      "Epoch: 39\n",
      "Loss: 9.94091841776829e-05\n",
      "Val Loss: 0.0016599109745309639\n",
      "Epoch: 40\n",
      "Loss: 0.00010051642100480185\n",
      "Val Loss: 0.0019130021443694034\n",
      "Epoch: 41\n",
      "Loss: 0.00010133191284380728\n",
      "Val Loss: 0.000996524664449453\n",
      "Epoch: 42\n",
      "Loss: 0.00010043022101120203\n",
      "Val Loss: 0.0028417690111131504\n",
      "Epoch: 43\n",
      "Loss: 0.00010008848746374067\n",
      "Val Loss: 0.0006519333771747518\n",
      "Epoch: 44\n",
      "Loss: 0.00010053508484380982\n",
      "Val Loss: 0.0017802690767378861\n",
      "Epoch: 45\n",
      "Loss: 0.00010249339845005952\n",
      "Val Loss: 0.0014073696512377342\n",
      "Epoch: 46\n",
      "Loss: 0.00010042952995210252\n",
      "Val Loss: 0.002021446544504977\n",
      "Epoch: 47\n",
      "Loss: 9.984645621032773e-05\n",
      "Val Loss: 0.002485639961321433\n",
      "Epoch: 48\n",
      "Loss: 9.898876678711778e-05\n",
      "Val Loss: 0.0002245835063427347\n",
      "Epoch: 49\n",
      "Loss: 9.955273083261097e-05\n",
      "Val Loss: 0.0008241048592283214\n",
      "Epoch: 50\n",
      "Loss: 0.00010193879763141782\n",
      "Val Loss: 0.0009447370992135648\n"
     ]
    }
   ],
   "source": [
    "learning_rate = 0.01\n",
    "num_epochs = 50\n",
    "loss_function = nn.MSELoss()\n",
    "optimizer = torch.optim.Adam(model.parameters(), lr=learning_rate)\n",
    "\n",
    "for epoch in range(num_epochs):\n",
    "    train_one_epoch()\n",
    "    validate_one_epoch()"
   ]
  },
  {
   "cell_type": "markdown",
   "id": "6304e4fa",
   "metadata": {
    "papermill": {
     "duration": 0.01877,
     "end_time": "2024-01-25T17:33:20.252208",
     "exception": false,
     "start_time": "2024-01-25T17:33:20.233438",
     "status": "completed"
    },
    "tags": []
   },
   "source": [
    "# Bước 4: Thực hiện đánh giá trên tập test"
   ]
  },
  {
   "cell_type": "code",
   "execution_count": 24,
   "id": "f0f707be",
   "metadata": {
    "execution": {
     "iopub.execute_input": "2024-01-25T17:33:20.290887Z",
     "iopub.status.busy": "2024-01-25T17:33:20.290592Z",
     "iopub.status.idle": "2024-01-25T17:33:20.306861Z",
     "shell.execute_reply": "2024-01-25T17:33:20.306017Z"
    },
    "papermill": {
     "duration": 0.0379,
     "end_time": "2024-01-25T17:33:20.308776",
     "exception": false,
     "start_time": "2024-01-25T17:33:20.270876",
     "status": "completed"
    },
    "tags": []
   },
   "outputs": [
    {
     "data": {
      "text/plain": [
       "array([[0.4888997 , 0.49089727, 0.49051505, 0.49520278],\n",
       "       [0.48384148, 0.48570696, 0.48543555, 0.4899444 ],\n",
       "       [0.4836409 , 0.4854397 , 0.48525286, 0.48966557],\n",
       "       ...,\n",
       "       [1.8816342 , 1.8825892 , 1.9051307 , 1.9036028 ],\n",
       "       [1.8816233 , 1.8825608 , 1.9051543 , 1.9035981 ],\n",
       "       [1.8799498 , 1.8806926 , 1.9031731 , 1.901561  ]], dtype=float32)"
      ]
     },
     "execution_count": 24,
     "metadata": {},
     "output_type": "execute_result"
    }
   ],
   "source": [
    "test_predictions = model(x_test_sequences.to(device)).detach().cpu().numpy()\n",
    "test_predictions"
   ]
  },
  {
   "cell_type": "code",
   "execution_count": 25,
   "id": "0264c43e",
   "metadata": {
    "execution": {
     "iopub.execute_input": "2024-01-25T17:33:20.349353Z",
     "iopub.status.busy": "2024-01-25T17:33:20.349050Z",
     "iopub.status.idle": "2024-01-25T17:33:20.355101Z",
     "shell.execute_reply": "2024-01-25T17:33:20.354389Z"
    },
    "papermill": {
     "duration": 0.028954,
     "end_time": "2024-01-25T17:33:20.357268",
     "exception": false,
     "start_time": "2024-01-25T17:33:20.328314",
     "status": "completed"
    },
    "tags": []
   },
   "outputs": [],
   "source": [
    "test_predictions = scaler.inverse_transform(test_predictions)"
   ]
  },
  {
   "cell_type": "code",
   "execution_count": 26,
   "id": "4e84e0ce",
   "metadata": {
    "execution": {
     "iopub.execute_input": "2024-01-25T17:33:20.398180Z",
     "iopub.status.busy": "2024-01-25T17:33:20.397936Z",
     "iopub.status.idle": "2024-01-25T17:33:20.404719Z",
     "shell.execute_reply": "2024-01-25T17:33:20.403847Z"
    },
    "papermill": {
     "duration": 0.028441,
     "end_time": "2024-01-25T17:33:20.406615",
     "exception": false,
     "start_time": "2024-01-25T17:33:20.378174",
     "status": "completed"
    },
    "tags": []
   },
   "outputs": [
    {
     "data": {
      "text/plain": [
       "array([48.18092 , 48.14875 , 48.147476, ..., 57.03839 , 57.038322,\n",
       "       57.02768 ], dtype=float32)"
      ]
     },
     "execution_count": 26,
     "metadata": {},
     "output_type": "execute_result"
    }
   ],
   "source": [
    "open_price_pred = test_predictions[:, 0]\n",
    "high_price_pred = test_predictions[:, 1]\n",
    "low_price_pred = test_predictions[:, 2]\n",
    "close_price_pred = test_predictions[:, 3]\n",
    "\n",
    "open_price_pred"
   ]
  },
  {
   "cell_type": "code",
   "execution_count": 27,
   "id": "81baf4a7",
   "metadata": {
    "execution": {
     "iopub.execute_input": "2024-01-25T17:33:20.447121Z",
     "iopub.status.busy": "2024-01-25T17:33:20.446855Z",
     "iopub.status.idle": "2024-01-25T17:33:20.452601Z",
     "shell.execute_reply": "2024-01-25T17:33:20.451928Z"
    },
    "papermill": {
     "duration": 0.027735,
     "end_time": "2024-01-25T17:33:20.454508",
     "exception": false,
     "start_time": "2024-01-25T17:33:20.426773",
     "status": "completed"
    },
    "tags": []
   },
   "outputs": [],
   "source": [
    "y_test = y_test.detach().numpy()\n",
    "y_test = scaler.inverse_transform(y_test)"
   ]
  },
  {
   "cell_type": "code",
   "execution_count": 28,
   "id": "c95cf75c",
   "metadata": {
    "execution": {
     "iopub.execute_input": "2024-01-25T17:33:20.494500Z",
     "iopub.status.busy": "2024-01-25T17:33:20.494218Z",
     "iopub.status.idle": "2024-01-25T17:33:20.500892Z",
     "shell.execute_reply": "2024-01-25T17:33:20.499934Z"
    },
    "papermill": {
     "duration": 0.029012,
     "end_time": "2024-01-25T17:33:20.502751",
     "exception": false,
     "start_time": "2024-01-25T17:33:20.473739",
     "status": "completed"
    },
    "tags": []
   },
   "outputs": [
    {
     "data": {
      "text/plain": [
       "array([48.15, 48.15, 48.15, ..., 58.2 , 58.1 , 58.1 ], dtype=float32)"
      ]
     },
     "execution_count": 28,
     "metadata": {},
     "output_type": "execute_result"
    }
   ],
   "source": [
    "open_price_actual = y_test[:, 0]\n",
    "high_price_actual = y_test[:, 1]\n",
    "low_price_actual = y_test[:, 2]\n",
    "close_price_actual = y_test[:, 3]\n",
    "\n",
    "open_price_actual"
   ]
  },
  {
   "cell_type": "code",
   "execution_count": 29,
   "id": "5f714fa8",
   "metadata": {
    "execution": {
     "iopub.execute_input": "2024-01-25T17:33:20.541978Z",
     "iopub.status.busy": "2024-01-25T17:33:20.541713Z",
     "iopub.status.idle": "2024-01-25T17:33:22.012963Z",
     "shell.execute_reply": "2024-01-25T17:33:22.011982Z"
    },
    "papermill": {
     "duration": 1.4945,
     "end_time": "2024-01-25T17:33:22.016410",
     "exception": false,
     "start_time": "2024-01-25T17:33:20.521910",
     "status": "completed"
    },
    "tags": []
   },
   "outputs": [
    {
     "data": {
      "image/png": "[encoded data removed]",
      "text/plain": [
       "<Figure size 1200x1000 with 4 Axes>"
      ]
     },
     "metadata": {},
     "output_type": "display_data"
    }
   ],
   "source": [
    "# Tạo 4 biểu đồ nhỏ\n",
    "fig, axes = plt.subplots(2, 2, figsize=(12, 10))\n",
    "\n",
    "# Biểu đồ 1: Giá mở cửa\n",
    "axes[0, 0].plot(open_price_actual, label='Thực tế')\n",
    "axes[0, 0].plot(open_price_pred, label='Dự đoán')\n",
    "axes[0, 0].set_title('Giá mở cửa')\n",
    "axes[0, 0].set_xlabel('Ngày')\n",
    "axes[0, 0].set_ylabel('Giá mở cửa')\n",
    "axes[0, 0].legend()\n",
    "\n",
    "# Biểu đồ 2: Giá đóng cửa\n",
    "axes[0, 1].plot(close_price_actual, label='Thực tế')\n",
    "axes[0, 1].plot(close_price_pred, label='Dự đoán')\n",
    "axes[0, 1].set_title('Giá đóng cửa')\n",
    "axes[0, 1].set_xlabel('Ngày')\n",
    "axes[0, 1].set_ylabel('Giá đóng cửa')\n",
    "axes[0, 1].legend()\n",
    "\n",
    "# Biểu đồ 3: Giá cao nhất\n",
    "axes[1, 0].plot(high_price_actual, label='Thực tế')\n",
    "axes[1, 0].plot(high_price_pred, label='Dự đoán')\n",
    "axes[1, 0].set_title('Giá cao nhất')\n",
    "axes[1, 0].set_xlabel('Ngày')\n",
    "axes[1, 0].set_ylabel('Giá cao nhất')\n",
    "axes[1, 0].legend()\n",
    "\n",
    "# Biểu đồ 4: Giá thấp nhất\n",
    "axes[1, 1].plot(low_price_actual, label='Thực tế')\n",
    "axes[1, 1].plot(low_price_pred, label='Dự đoán')\n",
    "axes[1, 1].set_title('Giá thấp nhất')\n",
    "axes[1, 1].set_xlabel('Ngày')\n",
    "axes[1, 1].set_ylabel('Giá thấp nhất')\n",
    "axes[1, 1].legend()\n",
    "\n",
    "# Hiển thị biểu đồ\n",
    "plt.tight_layout()\n",
    "plt.show()\n"
   ]
  },
  {
   "cell_type": "code",
   "execution_count": 30,
   "id": "9ea0d9d3",
   "metadata": {
    "execution": {
     "iopub.execute_input": "2024-01-25T17:33:22.063438Z",
     "iopub.status.busy": "2024-01-25T17:33:22.063121Z",
     "iopub.status.idle": "2024-01-25T17:33:22.250773Z",
     "shell.execute_reply": "2024-01-25T17:33:22.249621Z"
    },
    "papermill": {
     "duration": 0.213683,
     "end_time": "2024-01-25T17:33:22.253314",
     "exception": false,
     "start_time": "2024-01-25T17:33:22.039631",
     "status": "completed"
    },
    "tags": []
   },
   "outputs": [
    {
     "name": "stdout",
     "output_type": "stream",
     "text": [
      "Đánh giá độ chính xác của open price\n",
      "***************************\n",
      "Độ phù hợp tập test: 0.9947259591708315\n",
      "Sai số tuyệt đối trung bình trên tập test: 0.107317284\n",
      "Phần trăm sai số tuyệt đối trung bình tập test: 0.0019481466\n",
      "Đánh giá độ chính xác của close price\n",
      "***************************\n",
      "Độ phù hợp tập test: 0.9960082238709325\n",
      "Sai số tuyệt đối trung bình trên tập test: 0.11712476\n",
      "Phần trăm sai số tuyệt đối trung bình tập test: 0.0021741334\n",
      "Đánh giá độ chính xác của high price\n",
      "***************************\n",
      "Độ phù hợp tập test: 0.9951115564560108\n",
      "Sai số tuyệt đối trung bình trên tập test: 0.11059394\n",
      "Phần trăm sai số tuyệt đối trung bình tập test: 0.0020244112\n",
      "Đánh giá độ chính xác của low price\n",
      "***************************\n",
      "Độ phù hợp tập test: 0.9959823650774553\n",
      "Sai số tuyệt đối trung bình trên tập test: 0.09924251\n",
      "Phần trăm sai số tuyệt đối trung bình tập test: 0.0018154173\n"
     ]
    }
   ],
   "source": [
    "from sklearn.metrics import r2_score, mean_absolute_error, mean_absolute_percentage_error\n",
    "\n",
    "print('Đánh giá độ chính xác của open price')\n",
    "print('***************************')\n",
    "#r2\n",
    "print('Độ phù hợp tập test:',r2_score(open_price_actual,open_price_pred))\n",
    "#mae\n",
    "print('Sai số tuyệt đối trung bình trên tập test:',mean_absolute_error(open_price_actual, open_price_pred))\n",
    "#mae\n",
    "print('Phần trăm sai số tuyệt đối trung bình tập test:',mean_absolute_percentage_error(open_price_actual,open_price_pred))\n",
    "\n",
    "print('Đánh giá độ chính xác của close price')\n",
    "print('***************************')\n",
    "#r2\n",
    "print('Độ phù hợp tập test:',r2_score(close_price_actual,close_price_pred))\n",
    "#mae\n",
    "print('Sai số tuyệt đối trung bình trên tập test:',mean_absolute_error(close_price_actual, close_price_pred))\n",
    "#mae\n",
    "print('Phần trăm sai số tuyệt đối trung bình tập test:',mean_absolute_percentage_error(close_price_actual,close_price_pred))\n",
    "\n",
    "print('Đánh giá độ chính xác của high price')\n",
    "print('***************************')\n",
    "#r2\n",
    "print('Độ phù hợp tập test:',r2_score(high_price_actual,high_price_pred))\n",
    "#mae\n",
    "print('Sai số tuyệt đối trung bình trên tập test:',mean_absolute_error(high_price_actual, high_price_pred))\n",
    "#mae\n",
    "print('Phần trăm sai số tuyệt đối trung bình tập test:',mean_absolute_percentage_error(high_price_actual,high_price_pred))\n",
    "\n",
    "print('Đánh giá độ chính xác của low price')\n",
    "print('***************************')\n",
    "#r2\n",
    "print('Độ phù hợp tập test:',r2_score(low_price_actual,low_price_pred))\n",
    "#mae\n",
    "print('Sai số tuyệt đối trung bình trên tập test:',mean_absolute_error(low_price_actual, low_price_pred))\n",
    "#mae\n",
    "print('Phần trăm sai số tuyệt đối trung bình tập test:',mean_absolute_percentage_error(low_price_actual,low_price_pred))\n",
    "\n",
    "\n"
   ]
  }
 ],
 "metadata": {
  "kaggle": {
   "accelerator": "nvidiaTeslaT4",
   "dataSources": [
    {
     "datasetId": 4339965,
     "sourceId": 7455924,
     "sourceType": "datasetVersion"
    }
   ],
   "dockerImageVersionId": 30636,
   "isGpuEnabled": true,
   "isInternetEnabled": true,
   "language": "python",
   "sourceType": "notebook"
  },
  "kernelspec": {
   "display_name": "Python 3",
   "language": "python",
   "name": "python3"
  },
  "language_info": {
   "codemirror_mode": {
    "name": "ipython",
    "version": 3
   },
   "file_extension": ".py",
   "mimetype": "text/x-python",
   "name": "python",
   "nbconvert_exporter": "python",
   "pygments_lexer": "ipython3",
   "version": "3.10.12"
  },
  "papermill": {
   "default_parameters": {},
   "duration": 533.59716,
   "end_time": "2024-01-25T17:33:24.585434",
   "environment_variables": {},
   "exception": null,
   "input_path": "__notebook__.ipynb",
   "output_path": "__notebook__.ipynb",
   "parameters": {},
   "start_time": "2024-01-25T17:24:30.988274",
   "version": "2.4.0"
  }
 },
 "nbformat": 4,
 "nbformat_minor": 5
}
